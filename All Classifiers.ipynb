{
 "cells": [
  {
   "cell_type": "code",
   "execution_count": 60,
   "metadata": {},
   "outputs": [],
   "source": [
    "# pip install catboost"
   ]
  },
  {
   "cell_type": "code",
   "execution_count": 62,
   "metadata": {
    "_kg_hide-input": true,
    "execution": {
     "iopub.execute_input": "2022-05-01T03:52:44.674947Z",
     "iopub.status.busy": "2022-05-01T03:52:44.674363Z",
     "iopub.status.idle": "2022-05-01T03:52:46.243666Z",
     "shell.execute_reply": "2022-05-01T03:52:46.242541Z"
    },
    "papermill": {
     "duration": 1.596922,
     "end_time": "2022-05-01T03:52:46.246766",
     "exception": false,
     "start_time": "2022-05-01T03:52:44.649844",
     "status": "completed"
    },
    "tags": []
   },
   "outputs": [],
   "source": [
    "import numpy as np\n",
    "import pandas as pd\n",
    "import matplotlib.pyplot as plt\n",
    "from matplotlib.ticker import MaxNLocator\n",
    "import seaborn as sns\n",
    "from IPython.display import display\n",
    "import datetime\n",
    "import scipy.stats\n",
    "from sklearn.decomposition import PCA\n",
    "from sklearn.metrics import roc_auc_score, roc_curve, confusion_matrix, classification_report, accuracy_score, f1_score, precision_score, recall_score\n",
    "from sklearn.preprocessing import StandardScaler\n",
    "from sklearn.model_selection import train_test_split, StratifiedKFold, GridSearchCV, RandomizedSearchCV\n",
    "\n",
    "from sklearn.linear_model import LogisticRegression\n",
    "from sklearn.tree import DecisionTreeClassifier\n",
    "from sklearn.ensemble import RandomForestClassifier\n",
    "\n",
    "import xgboost as xgb\n",
    "from xgboost import XGBClassifier\n",
    "from catboost import CatBoostClassifier\n",
    "from lightgbm import LGBMClassifier"
   ]
  },
  {
   "cell_type": "code",
   "execution_count": 2,
   "metadata": {
    "execution": {
     "iopub.execute_input": "2022-05-01T03:52:46.337570Z",
     "iopub.status.busy": "2022-05-01T03:52:46.336846Z",
     "iopub.status.idle": "2022-05-01T03:53:09.375886Z",
     "shell.execute_reply": "2022-05-01T03:53:09.374556Z"
    },
    "papermill": {
     "duration": 23.069285,
     "end_time": "2022-05-01T03:53:09.382411",
     "exception": false,
     "start_time": "2022-05-01T03:52:46.313126",
     "status": "completed"
    },
    "scrolled": false,
    "tags": []
   },
   "outputs": [],
   "source": [
    "trn = pd.read_csv('train.csv')\n",
    "tst = pd.read_csv('test.csv')"
   ]
  },
  {
   "cell_type": "code",
   "execution_count": 3,
   "metadata": {},
   "outputs": [],
   "source": [
    "# checkpoint \n",
    "train = trn.copy()\n",
    "test = tst.copy()"
   ]
  },
  {
   "cell_type": "code",
   "execution_count": 4,
   "metadata": {},
   "outputs": [
    {
     "data": {
      "text/html": [
       "<div>\n",
       "<style scoped>\n",
       "    .dataframe tbody tr th:only-of-type {\n",
       "        vertical-align: middle;\n",
       "    }\n",
       "\n",
       "    .dataframe tbody tr th {\n",
       "        vertical-align: top;\n",
       "    }\n",
       "\n",
       "    .dataframe thead th {\n",
       "        text-align: right;\n",
       "    }\n",
       "</style>\n",
       "<table border=\"1\" class=\"dataframe\">\n",
       "  <thead>\n",
       "    <tr style=\"text-align: right;\">\n",
       "      <th></th>\n",
       "      <th>id</th>\n",
       "      <th>f_00</th>\n",
       "      <th>f_01</th>\n",
       "      <th>f_02</th>\n",
       "      <th>f_03</th>\n",
       "      <th>f_04</th>\n",
       "      <th>f_05</th>\n",
       "      <th>f_06</th>\n",
       "      <th>f_07</th>\n",
       "      <th>f_08</th>\n",
       "      <th>...</th>\n",
       "      <th>f_22</th>\n",
       "      <th>f_23</th>\n",
       "      <th>f_24</th>\n",
       "      <th>f_25</th>\n",
       "      <th>f_26</th>\n",
       "      <th>f_27</th>\n",
       "      <th>f_28</th>\n",
       "      <th>f_29</th>\n",
       "      <th>f_30</th>\n",
       "      <th>target</th>\n",
       "    </tr>\n",
       "  </thead>\n",
       "  <tbody>\n",
       "    <tr>\n",
       "      <th>0</th>\n",
       "      <td>0</td>\n",
       "      <td>-1.373246</td>\n",
       "      <td>0.238887</td>\n",
       "      <td>-0.243376</td>\n",
       "      <td>0.567405</td>\n",
       "      <td>-0.647715</td>\n",
       "      <td>0.839326</td>\n",
       "      <td>0.113133</td>\n",
       "      <td>1</td>\n",
       "      <td>5</td>\n",
       "      <td>...</td>\n",
       "      <td>-2.540739</td>\n",
       "      <td>0.766952</td>\n",
       "      <td>-2.730628</td>\n",
       "      <td>-0.208177</td>\n",
       "      <td>1.363402</td>\n",
       "      <td>ABABDADBAB</td>\n",
       "      <td>67.609153</td>\n",
       "      <td>0</td>\n",
       "      <td>0</td>\n",
       "      <td>0</td>\n",
       "    </tr>\n",
       "    <tr>\n",
       "      <th>1</th>\n",
       "      <td>1</td>\n",
       "      <td>1.697021</td>\n",
       "      <td>-1.710322</td>\n",
       "      <td>-2.230332</td>\n",
       "      <td>-0.545661</td>\n",
       "      <td>1.113173</td>\n",
       "      <td>-1.552175</td>\n",
       "      <td>0.447825</td>\n",
       "      <td>1</td>\n",
       "      <td>3</td>\n",
       "      <td>...</td>\n",
       "      <td>2.278315</td>\n",
       "      <td>-0.633658</td>\n",
       "      <td>-1.217077</td>\n",
       "      <td>-3.782194</td>\n",
       "      <td>-0.058316</td>\n",
       "      <td>ACACCADCEB</td>\n",
       "      <td>377.096415</td>\n",
       "      <td>0</td>\n",
       "      <td>0</td>\n",
       "      <td>1</td>\n",
       "    </tr>\n",
       "    <tr>\n",
       "      <th>2</th>\n",
       "      <td>2</td>\n",
       "      <td>1.681726</td>\n",
       "      <td>0.616746</td>\n",
       "      <td>-1.027689</td>\n",
       "      <td>0.810492</td>\n",
       "      <td>-0.609086</td>\n",
       "      <td>0.113965</td>\n",
       "      <td>-0.708660</td>\n",
       "      <td>1</td>\n",
       "      <td>0</td>\n",
       "      <td>...</td>\n",
       "      <td>-1.385775</td>\n",
       "      <td>-0.520558</td>\n",
       "      <td>-0.009121</td>\n",
       "      <td>2.788536</td>\n",
       "      <td>-3.703488</td>\n",
       "      <td>AAAEABCKAD</td>\n",
       "      <td>-195.599702</td>\n",
       "      <td>0</td>\n",
       "      <td>2</td>\n",
       "      <td>1</td>\n",
       "    </tr>\n",
       "    <tr>\n",
       "      <th>3</th>\n",
       "      <td>3</td>\n",
       "      <td>-0.118172</td>\n",
       "      <td>-0.587835</td>\n",
       "      <td>-0.804638</td>\n",
       "      <td>2.086822</td>\n",
       "      <td>0.371005</td>\n",
       "      <td>-0.128831</td>\n",
       "      <td>-0.282575</td>\n",
       "      <td>3</td>\n",
       "      <td>2</td>\n",
       "      <td>...</td>\n",
       "      <td>0.572594</td>\n",
       "      <td>-1.653213</td>\n",
       "      <td>1.686035</td>\n",
       "      <td>-2.533098</td>\n",
       "      <td>-0.608601</td>\n",
       "      <td>BDBBAACBCB</td>\n",
       "      <td>210.826205</td>\n",
       "      <td>0</td>\n",
       "      <td>0</td>\n",
       "      <td>1</td>\n",
       "    </tr>\n",
       "    <tr>\n",
       "      <th>4</th>\n",
       "      <td>4</td>\n",
       "      <td>1.148481</td>\n",
       "      <td>-0.176567</td>\n",
       "      <td>-0.664871</td>\n",
       "      <td>-1.101343</td>\n",
       "      <td>0.467875</td>\n",
       "      <td>0.500117</td>\n",
       "      <td>0.407515</td>\n",
       "      <td>3</td>\n",
       "      <td>3</td>\n",
       "      <td>...</td>\n",
       "      <td>-3.912929</td>\n",
       "      <td>-1.430366</td>\n",
       "      <td>2.127649</td>\n",
       "      <td>-3.306784</td>\n",
       "      <td>4.371371</td>\n",
       "      <td>BDBCBBCHFE</td>\n",
       "      <td>-217.211798</td>\n",
       "      <td>0</td>\n",
       "      <td>1</td>\n",
       "      <td>1</td>\n",
       "    </tr>\n",
       "  </tbody>\n",
       "</table>\n",
       "<p>5 rows × 33 columns</p>\n",
       "</div>"
      ],
      "text/plain": [
       "   id      f_00      f_01      f_02      f_03      f_04      f_05      f_06  \\\n",
       "0   0 -1.373246  0.238887 -0.243376  0.567405 -0.647715  0.839326  0.113133   \n",
       "1   1  1.697021 -1.710322 -2.230332 -0.545661  1.113173 -1.552175  0.447825   \n",
       "2   2  1.681726  0.616746 -1.027689  0.810492 -0.609086  0.113965 -0.708660   \n",
       "3   3 -0.118172 -0.587835 -0.804638  2.086822  0.371005 -0.128831 -0.282575   \n",
       "4   4  1.148481 -0.176567 -0.664871 -1.101343  0.467875  0.500117  0.407515   \n",
       "\n",
       "   f_07  f_08  ...      f_22      f_23      f_24      f_25      f_26  \\\n",
       "0     1     5  ... -2.540739  0.766952 -2.730628 -0.208177  1.363402   \n",
       "1     1     3  ...  2.278315 -0.633658 -1.217077 -3.782194 -0.058316   \n",
       "2     1     0  ... -1.385775 -0.520558 -0.009121  2.788536 -3.703488   \n",
       "3     3     2  ...  0.572594 -1.653213  1.686035 -2.533098 -0.608601   \n",
       "4     3     3  ... -3.912929 -1.430366  2.127649 -3.306784  4.371371   \n",
       "\n",
       "         f_27        f_28  f_29  f_30  target  \n",
       "0  ABABDADBAB   67.609153     0     0       0  \n",
       "1  ACACCADCEB  377.096415     0     0       1  \n",
       "2  AAAEABCKAD -195.599702     0     2       1  \n",
       "3  BDBBAACBCB  210.826205     0     0       1  \n",
       "4  BDBCBBCHFE -217.211798     0     1       1  \n",
       "\n",
       "[5 rows x 33 columns]"
      ]
     },
     "execution_count": 4,
     "metadata": {},
     "output_type": "execute_result"
    }
   ],
   "source": [
    "train.head()"
   ]
  },
  {
   "cell_type": "code",
   "execution_count": 5,
   "metadata": {},
   "outputs": [
    {
     "data": {
      "text/plain": [
       "(900000, 33)"
      ]
     },
     "execution_count": 5,
     "metadata": {},
     "output_type": "execute_result"
    }
   ],
   "source": [
    "train.shape"
   ]
  },
  {
   "cell_type": "code",
   "execution_count": 6,
   "metadata": {},
   "outputs": [
    {
     "data": {
      "text/html": [
       "<div>\n",
       "<style scoped>\n",
       "    .dataframe tbody tr th:only-of-type {\n",
       "        vertical-align: middle;\n",
       "    }\n",
       "\n",
       "    .dataframe tbody tr th {\n",
       "        vertical-align: top;\n",
       "    }\n",
       "\n",
       "    .dataframe thead th {\n",
       "        text-align: right;\n",
       "    }\n",
       "</style>\n",
       "<table border=\"1\" class=\"dataframe\">\n",
       "  <thead>\n",
       "    <tr style=\"text-align: right;\">\n",
       "      <th></th>\n",
       "      <th>id</th>\n",
       "      <th>f_00</th>\n",
       "      <th>f_01</th>\n",
       "      <th>f_02</th>\n",
       "      <th>f_03</th>\n",
       "      <th>f_04</th>\n",
       "      <th>f_05</th>\n",
       "      <th>f_06</th>\n",
       "      <th>f_07</th>\n",
       "      <th>f_08</th>\n",
       "      <th>...</th>\n",
       "      <th>f_21</th>\n",
       "      <th>f_22</th>\n",
       "      <th>f_23</th>\n",
       "      <th>f_24</th>\n",
       "      <th>f_25</th>\n",
       "      <th>f_26</th>\n",
       "      <th>f_27</th>\n",
       "      <th>f_28</th>\n",
       "      <th>f_29</th>\n",
       "      <th>f_30</th>\n",
       "    </tr>\n",
       "  </thead>\n",
       "  <tbody>\n",
       "    <tr>\n",
       "      <th>0</th>\n",
       "      <td>900000</td>\n",
       "      <td>0.442517</td>\n",
       "      <td>0.174380</td>\n",
       "      <td>-0.999816</td>\n",
       "      <td>0.762741</td>\n",
       "      <td>0.186778</td>\n",
       "      <td>-1.074775</td>\n",
       "      <td>0.501888</td>\n",
       "      <td>6</td>\n",
       "      <td>6</td>\n",
       "      <td>...</td>\n",
       "      <td>-1.006400</td>\n",
       "      <td>-1.193879</td>\n",
       "      <td>-2.435736</td>\n",
       "      <td>-2.427430</td>\n",
       "      <td>-1.966887</td>\n",
       "      <td>5.734205</td>\n",
       "      <td>BAAABADLAC</td>\n",
       "      <td>99.478419</td>\n",
       "      <td>0</td>\n",
       "      <td>0</td>\n",
       "    </tr>\n",
       "    <tr>\n",
       "      <th>1</th>\n",
       "      <td>900001</td>\n",
       "      <td>-0.605598</td>\n",
       "      <td>-0.305715</td>\n",
       "      <td>0.627667</td>\n",
       "      <td>-0.578898</td>\n",
       "      <td>-1.750931</td>\n",
       "      <td>1.355550</td>\n",
       "      <td>-0.190911</td>\n",
       "      <td>1</td>\n",
       "      <td>3</td>\n",
       "      <td>...</td>\n",
       "      <td>2.382405</td>\n",
       "      <td>0.149442</td>\n",
       "      <td>1.883322</td>\n",
       "      <td>-2.848714</td>\n",
       "      <td>-0.725155</td>\n",
       "      <td>3.194219</td>\n",
       "      <td>AFABBAEGCB</td>\n",
       "      <td>-65.993825</td>\n",
       "      <td>1</td>\n",
       "      <td>0</td>\n",
       "    </tr>\n",
       "    <tr>\n",
       "      <th>2</th>\n",
       "      <td>900002</td>\n",
       "      <td>0.303990</td>\n",
       "      <td>2.445110</td>\n",
       "      <td>0.246515</td>\n",
       "      <td>0.818248</td>\n",
       "      <td>0.359731</td>\n",
       "      <td>-1.331845</td>\n",
       "      <td>1.358622</td>\n",
       "      <td>3</td>\n",
       "      <td>3</td>\n",
       "      <td>...</td>\n",
       "      <td>-7.026098</td>\n",
       "      <td>1.312277</td>\n",
       "      <td>-5.157192</td>\n",
       "      <td>1.714005</td>\n",
       "      <td>0.585032</td>\n",
       "      <td>0.066898</td>\n",
       "      <td>BBACABBKEE</td>\n",
       "      <td>-87.405622</td>\n",
       "      <td>0</td>\n",
       "      <td>1</td>\n",
       "    </tr>\n",
       "    <tr>\n",
       "      <th>3</th>\n",
       "      <td>900003</td>\n",
       "      <td>0.154053</td>\n",
       "      <td>0.260126</td>\n",
       "      <td>-1.367092</td>\n",
       "      <td>-0.093175</td>\n",
       "      <td>-1.111034</td>\n",
       "      <td>-0.948481</td>\n",
       "      <td>1.119220</td>\n",
       "      <td>0</td>\n",
       "      <td>0</td>\n",
       "      <td>...</td>\n",
       "      <td>-0.594532</td>\n",
       "      <td>-3.939475</td>\n",
       "      <td>1.754570</td>\n",
       "      <td>-2.364007</td>\n",
       "      <td>-1.003320</td>\n",
       "      <td>3.893099</td>\n",
       "      <td>AEBEAACQCC</td>\n",
       "      <td>-281.293460</td>\n",
       "      <td>0</td>\n",
       "      <td>0</td>\n",
       "    </tr>\n",
       "    <tr>\n",
       "      <th>4</th>\n",
       "      <td>900004</td>\n",
       "      <td>-1.651904</td>\n",
       "      <td>-0.424266</td>\n",
       "      <td>-0.667356</td>\n",
       "      <td>-0.322124</td>\n",
       "      <td>-0.089462</td>\n",
       "      <td>0.181705</td>\n",
       "      <td>1.784983</td>\n",
       "      <td>2</td>\n",
       "      <td>2</td>\n",
       "      <td>...</td>\n",
       "      <td>0.084906</td>\n",
       "      <td>-0.985736</td>\n",
       "      <td>-0.130467</td>\n",
       "      <td>-3.557893</td>\n",
       "      <td>1.210687</td>\n",
       "      <td>1.861884</td>\n",
       "      <td>AEBBBBDABF</td>\n",
       "      <td>25.629415</td>\n",
       "      <td>0</td>\n",
       "      <td>2</td>\n",
       "    </tr>\n",
       "  </tbody>\n",
       "</table>\n",
       "<p>5 rows × 32 columns</p>\n",
       "</div>"
      ],
      "text/plain": [
       "       id      f_00      f_01      f_02      f_03      f_04      f_05  \\\n",
       "0  900000  0.442517  0.174380 -0.999816  0.762741  0.186778 -1.074775   \n",
       "1  900001 -0.605598 -0.305715  0.627667 -0.578898 -1.750931  1.355550   \n",
       "2  900002  0.303990  2.445110  0.246515  0.818248  0.359731 -1.331845   \n",
       "3  900003  0.154053  0.260126 -1.367092 -0.093175 -1.111034 -0.948481   \n",
       "4  900004 -1.651904 -0.424266 -0.667356 -0.322124 -0.089462  0.181705   \n",
       "\n",
       "       f_06  f_07  f_08  ...      f_21      f_22      f_23      f_24  \\\n",
       "0  0.501888     6     6  ... -1.006400 -1.193879 -2.435736 -2.427430   \n",
       "1 -0.190911     1     3  ...  2.382405  0.149442  1.883322 -2.848714   \n",
       "2  1.358622     3     3  ... -7.026098  1.312277 -5.157192  1.714005   \n",
       "3  1.119220     0     0  ... -0.594532 -3.939475  1.754570 -2.364007   \n",
       "4  1.784983     2     2  ...  0.084906 -0.985736 -0.130467 -3.557893   \n",
       "\n",
       "       f_25      f_26        f_27        f_28  f_29  f_30  \n",
       "0 -1.966887  5.734205  BAAABADLAC   99.478419     0     0  \n",
       "1 -0.725155  3.194219  AFABBAEGCB  -65.993825     1     0  \n",
       "2  0.585032  0.066898  BBACABBKEE  -87.405622     0     1  \n",
       "3 -1.003320  3.893099  AEBEAACQCC -281.293460     0     0  \n",
       "4  1.210687  1.861884  AEBBBBDABF   25.629415     0     2  \n",
       "\n",
       "[5 rows x 32 columns]"
      ]
     },
     "execution_count": 6,
     "metadata": {},
     "output_type": "execute_result"
    }
   ],
   "source": [
    "test.head()"
   ]
  },
  {
   "cell_type": "code",
   "execution_count": 7,
   "metadata": {},
   "outputs": [
    {
     "data": {
      "text/plain": [
       "(700000, 32)"
      ]
     },
     "execution_count": 7,
     "metadata": {},
     "output_type": "execute_result"
    }
   ],
   "source": [
    "test.shape"
   ]
  },
  {
   "cell_type": "code",
   "execution_count": 8,
   "metadata": {},
   "outputs": [],
   "source": [
    "data = pd.concat([train,test])"
   ]
  },
  {
   "cell_type": "code",
   "execution_count": 9,
   "metadata": {
    "execution": {
     "iopub.execute_input": "2022-05-01T03:53:09.641297Z",
     "iopub.status.busy": "2022-05-01T03:53:09.640611Z",
     "iopub.status.idle": "2022-05-01T03:53:09.923167Z",
     "shell.execute_reply": "2022-05-01T03:53:09.921901Z"
    },
    "papermill": {
     "duration": 0.325017,
     "end_time": "2022-05-01T03:53:09.926286",
     "exception": false,
     "start_time": "2022-05-01T03:53:09.601269",
     "status": "completed"
    },
    "tags": []
   },
   "outputs": [
    {
     "name": "stdout",
     "output_type": "stream",
     "text": [
      "<class 'pandas.core.frame.DataFrame'>\n",
      "Int64Index: 1600000 entries, 0 to 699999\n",
      "Data columns (total 33 columns):\n",
      " #   Column  Non-Null Count    Dtype  \n",
      "---  ------  --------------    -----  \n",
      " 0   id      1600000 non-null  int64  \n",
      " 1   f_00    1600000 non-null  float64\n",
      " 2   f_01    1600000 non-null  float64\n",
      " 3   f_02    1600000 non-null  float64\n",
      " 4   f_03    1600000 non-null  float64\n",
      " 5   f_04    1600000 non-null  float64\n",
      " 6   f_05    1600000 non-null  float64\n",
      " 7   f_06    1600000 non-null  float64\n",
      " 8   f_07    1600000 non-null  int64  \n",
      " 9   f_08    1600000 non-null  int64  \n",
      " 10  f_09    1600000 non-null  int64  \n",
      " 11  f_10    1600000 non-null  int64  \n",
      " 12  f_11    1600000 non-null  int64  \n",
      " 13  f_12    1600000 non-null  int64  \n",
      " 14  f_13    1600000 non-null  int64  \n",
      " 15  f_14    1600000 non-null  int64  \n",
      " 16  f_15    1600000 non-null  int64  \n",
      " 17  f_16    1600000 non-null  int64  \n",
      " 18  f_17    1600000 non-null  int64  \n",
      " 19  f_18    1600000 non-null  int64  \n",
      " 20  f_19    1600000 non-null  float64\n",
      " 21  f_20    1600000 non-null  float64\n",
      " 22  f_21    1600000 non-null  float64\n",
      " 23  f_22    1600000 non-null  float64\n",
      " 24  f_23    1600000 non-null  float64\n",
      " 25  f_24    1600000 non-null  float64\n",
      " 26  f_25    1600000 non-null  float64\n",
      " 27  f_26    1600000 non-null  float64\n",
      " 28  f_27    1600000 non-null  object \n",
      " 29  f_28    1600000 non-null  float64\n",
      " 30  f_29    1600000 non-null  int64  \n",
      " 31  f_30    1600000 non-null  int64  \n",
      " 32  target  900000 non-null   float64\n",
      "dtypes: float64(17), int64(15), object(1)\n",
      "memory usage: 415.0+ MB\n"
     ]
    }
   ],
   "source": [
    "data.info()\n",
    "# test_info()\n",
    "# no missing values"
   ]
  },
  {
   "cell_type": "code",
   "execution_count": 10,
   "metadata": {
    "execution": {
     "iopub.execute_input": "2022-05-01T03:53:10.069367Z",
     "iopub.status.busy": "2022-05-01T03:53:10.068447Z",
     "iopub.status.idle": "2022-05-01T03:53:10.090659Z",
     "shell.execute_reply": "2022-05-01T03:53:10.089759Z"
    },
    "papermill": {
     "duration": 0.076975,
     "end_time": "2022-05-01T03:53:10.094453",
     "exception": false,
     "start_time": "2022-05-01T03:53:10.017478",
     "status": "completed"
    },
    "tags": []
   },
   "outputs": [
    {
     "name": "stdout",
     "output_type": "stream",
     "text": [
      "48.649 % is positive for target variable\n"
     ]
    }
   ],
   "source": [
    "# check for data imbalance\n",
    "print(f'{round(sum(data.target==1)/data.target.count()*100,3)} % is positive for target variable')"
   ]
  },
  {
   "cell_type": "code",
   "execution_count": 11,
   "metadata": {},
   "outputs": [
    {
     "name": "stdout",
     "output_type": "stream",
     "text": [
      "float columns: ['f_00', 'f_01', 'f_02', 'f_03', 'f_04', 'f_05', 'f_06', 'f_19', 'f_20', 'f_21', 'f_22', 'f_23', 'f_24', 'f_25', 'f_26', 'f_28', 'target']\n",
      "int columns: ['id', 'f_07', 'f_08', 'f_09', 'f_10', 'f_11', 'f_12', 'f_13', 'f_14', 'f_15', 'f_16', 'f_17', 'f_18', 'f_29', 'f_30']\n",
      "cat columns: ['f_27']\n"
     ]
    }
   ],
   "source": [
    "# List the float, int and cat columns\n",
    "flo = [col for col in data.columns if data[col].dtype == 'float64']\n",
    "inte = [col for col in data.columns if data[col].dtype == 'int64']\n",
    "cat = [col for col in data.columns if data[col].dtype == 'object']\n",
    "\n",
    "print('float columns:', flo)\n",
    "print('int columns:', inte)\n",
    "print('cat columns:', cat)"
   ]
  },
  {
   "cell_type": "code",
   "execution_count": 12,
   "metadata": {},
   "outputs": [
    {
     "data": {
      "text/plain": [
       "f_00      [-1.3732464047725104, 1.6970205763459036, 1.68...\n",
       "f_01      [0.2388873032099414, -1.7103224412821365, 0.61...\n",
       "f_02      [-0.24337612703036202, -2.2303324519279237, -1...\n",
       "f_03      [0.5674048947734351, -0.5456607755370599, 0.81...\n",
       "f_04      [-0.6477146211280456, 1.1131725401245518, -0.6...\n",
       "f_05      [0.8393264522690496, -1.5521747042227951, 0.11...\n",
       "f_06      [0.1131328529032999, 0.4478252952236292, -0.70...\n",
       "f_19      [0.2982180414431934, -3.1476670028255627, 2.82...\n",
       "f_20      [-0.9197167887395312, -1.0754343248228595, -3....\n",
       "f_21      [3.0585409468961715, 2.1790500380926945, -0.78...\n",
       "f_22      [-2.5407388748740427, 2.2783149059699435, -1.3...\n",
       "f_23      [0.7669520032525932, -0.6336582890691911, -0.5...\n",
       "f_24      [-2.7306282330928697, -1.2170771231029698, -0....\n",
       "f_25      [-0.2081774526126452, -3.782194149331882, 2.78...\n",
       "f_26      [1.3634024035642385, -0.0583159446705583, -3.7...\n",
       "f_28      [67.60915349123779, 377.09641521724336, -195.5...\n",
       "target                                               [0, 1]\n",
       "dtype: object"
      ]
     },
     "execution_count": 12,
     "metadata": {},
     "output_type": "execute_result"
    }
   ],
   "source": [
    "# List the unique values in each float column \n",
    "pd.Series({col: train[col].unique() for col in data[flo].columns})"
   ]
  },
  {
   "cell_type": "code",
   "execution_count": 13,
   "metadata": {},
   "outputs": [
    {
     "data": {
      "text/plain": [
       "id      [0, 1, 2, 3, 4, 5, 6, 7, 8, 9, 10, 11, 12, 13,...\n",
       "f_07    [1, 3, 6, 2, 5, 4, 0, 7, 8, 9, 10, 11, 12, 13,...\n",
       "f_08    [5, 3, 0, 2, 1, 7, 6, 4, 9, 8, 10, 11, 12, 13,...\n",
       "f_09    [1, 4, 2, 0, 3, 5, 7, 6, 8, 9, 10, 11, 12, 13,...\n",
       "f_10    [3, 0, 6, 4, 2, 7, 1, 5, 10, 8, 9, 11, 12, 13,...\n",
       "f_11    [3, 2, 6, 1, 4, 5, 0, 9, 7, 8, 10, 12, 11, 13,...\n",
       "f_12    [3, 4, 6, 0, 1, 2, 5, 7, 8, 9, 12, 10, 11, 13,...\n",
       "f_13       [1, 0, 3, 4, 6, 5, 2, 8, 7, 10, 9, 11, 12, 13]\n",
       "f_14       [6, 1, 2, 0, 3, 5, 4, 7, 8, 9, 11, 10, 14, 12]\n",
       "f_15    [1, 0, 2, 3, 6, 4, 9, 5, 7, 8, 10, 14, 11, 12,...\n",
       "f_16    [0, 4, 2, 3, 1, 5, 7, 6, 8, 9, 11, 10, 13, 12,...\n",
       "f_17    [7, 6, 1, 0, 4, 3, 2, 5, 9, 8, 11, 12, 10, 14,...\n",
       "f_18       [4, 0, 3, 2, 1, 6, 5, 7, 9, 8, 10, 11, 12, 13]\n",
       "f_29                                               [0, 1]\n",
       "f_30                                            [0, 2, 1]\n",
       "dtype: object"
      ]
     },
     "execution_count": 13,
     "metadata": {},
     "output_type": "execute_result"
    }
   ],
   "source": [
    "# List the unique values in each int column \n",
    "pd.Series({col: data[col].unique() for col in data[inte].columns})\n",
    "# f_29, f_30 are cat columns "
   ]
  },
  {
   "cell_type": "code",
   "execution_count": 14,
   "metadata": {},
   "outputs": [],
   "source": [
    "# these fields should be categorical \n",
    "for col in ['f_29','f_30']: \n",
    "    data[col] = data[col].astype('object')"
   ]
  },
  {
   "cell_type": "code",
   "execution_count": 15,
   "metadata": {},
   "outputs": [
    {
     "data": {
      "text/plain": [
       "f_27    [ABABDADBAB, ACACCADCEB, AAAEABCKAD, BDBBAACBC...\n",
       "dtype: object"
      ]
     },
     "execution_count": 15,
     "metadata": {},
     "output_type": "execute_result"
    }
   ],
   "source": [
    "# List the unique values in each cat column \n",
    "pd.Series({col: data[col].unique() for col in data[cat].columns})"
   ]
  },
  {
   "cell_type": "code",
   "execution_count": 16,
   "metadata": {},
   "outputs": [
    {
     "data": {
      "text/html": [
       "<div>\n",
       "<style scoped>\n",
       "    .dataframe tbody tr th:only-of-type {\n",
       "        vertical-align: middle;\n",
       "    }\n",
       "\n",
       "    .dataframe tbody tr th {\n",
       "        vertical-align: top;\n",
       "    }\n",
       "\n",
       "    .dataframe thead th {\n",
       "        text-align: right;\n",
       "    }\n",
       "</style>\n",
       "<table border=\"1\" class=\"dataframe\">\n",
       "  <thead>\n",
       "    <tr style=\"text-align: right;\">\n",
       "      <th></th>\n",
       "      <th>count</th>\n",
       "      <th>unique</th>\n",
       "      <th>top</th>\n",
       "      <th>freq</th>\n",
       "    </tr>\n",
       "  </thead>\n",
       "  <tbody>\n",
       "    <tr>\n",
       "      <th>f_27</th>\n",
       "      <td>1600000</td>\n",
       "      <td>1181880</td>\n",
       "      <td>BAAACABNBC</td>\n",
       "      <td>15</td>\n",
       "    </tr>\n",
       "    <tr>\n",
       "      <th>f_29</th>\n",
       "      <td>1600000</td>\n",
       "      <td>2</td>\n",
       "      <td>0</td>\n",
       "      <td>1046642</td>\n",
       "    </tr>\n",
       "    <tr>\n",
       "      <th>f_30</th>\n",
       "      <td>1600000</td>\n",
       "      <td>3</td>\n",
       "      <td>2</td>\n",
       "      <td>539266</td>\n",
       "    </tr>\n",
       "  </tbody>\n",
       "</table>\n",
       "</div>"
      ],
      "text/plain": [
       "        count   unique         top     freq\n",
       "f_27  1600000  1181880  BAAACABNBC       15\n",
       "f_29  1600000        2           0  1046642\n",
       "f_30  1600000        3           2   539266"
      ]
     },
     "execution_count": 16,
     "metadata": {},
     "output_type": "execute_result"
    }
   ],
   "source": [
    "data.describe(include=\"object\").T"
   ]
  },
  {
   "cell_type": "markdown",
   "metadata": {},
   "source": [
    "### EDA"
   ]
  },
  {
   "cell_type": "code",
   "execution_count": 17,
   "metadata": {},
   "outputs": [],
   "source": [
    "# Plot correlation matrix for visual of multicollinearity\n",
    "# corrMatrix = train[flo + ['target']].corr()\n",
    "# corrMatrix.style.background_gradient(cmap='coolwarm', axis=None).set_precision(3)"
   ]
  },
  {
   "cell_type": "code",
   "execution_count": 18,
   "metadata": {
    "execution": {
     "iopub.execute_input": "2022-05-01T03:53:10.253551Z",
     "iopub.status.busy": "2022-05-01T03:53:10.252733Z",
     "iopub.status.idle": "2022-05-01T03:53:16.129355Z",
     "shell.execute_reply": "2022-05-01T03:53:16.128694Z"
    },
    "papermill": {
     "duration": 5.919968,
     "end_time": "2022-05-01T03:53:16.132498",
     "exception": false,
     "start_time": "2022-05-01T03:53:10.212530",
     "status": "completed"
    },
    "tags": []
   },
   "outputs": [
    {
     "data": {
      "image/png": "[encoded data removed]",
      "text/plain": [
       "<Figure size 1440x576 with 16 Axes>"
      ]
     },
     "metadata": {
      "needs_background": "light"
     },
     "output_type": "display_data"
    }
   ],
   "source": [
    "# float columns histograms\n",
    "fig, axs = plt.subplots(2, 8, figsize=(20, 8))\n",
    "for f, ax in zip(flo, axs.ravel()):\n",
    "    ax.hist(data[f], density=True, bins=100)\n",
    "    ax.set_title(f'data {f}')\n",
    "plt.suptitle('float columns histograms')\n",
    "plt.show()\n",
    "\n",
    "# normally distributed"
   ]
  },
  {
   "cell_type": "code",
   "execution_count": 19,
   "metadata": {
    "execution": {
     "iopub.execute_input": "2022-05-01T03:53:18.652813Z",
     "iopub.status.busy": "2022-05-01T03:53:18.652177Z",
     "iopub.status.idle": "2022-05-01T03:53:34.751444Z",
     "shell.execute_reply": "2022-05-01T03:53:34.750129Z"
    },
    "papermill": {
     "duration": 16.135024,
     "end_time": "2022-05-01T03:53:34.755562",
     "exception": false,
     "start_time": "2022-05-01T03:53:18.620538",
     "status": "completed"
    },
    "tags": []
   },
   "outputs": [
    {
     "data": {
      "image/png": "[encoded data removed]",
      "text/plain": [
       "<Figure size 1152x1152 with 16 Axes>"
      ]
     },
     "metadata": {
      "needs_background": "light"
     },
     "output_type": "display_data"
    }
   ],
   "source": [
    "# relationship between float x-vars and y\n",
    "fig, axs = plt.subplots(4, 4, figsize=(16, 16))\n",
    "for f, ax in zip(flo, axs.ravel()):\n",
    "    temp = pd.DataFrame({f: train[f].values,\n",
    "                         'state': train.target.values})\n",
    "    temp = temp.sort_values(f)\n",
    "    temp.reset_index(inplace=True)\n",
    "    ax.scatter(temp[f], temp.state.rolling(15000, center=True).mean(), s=2)\n",
    "    ax.set_xlabel(f'{f}')\n",
    "plt.suptitle('relationship between float x-vars and y')\n",
    "plt.show()"
   ]
  },
  {
   "cell_type": "code",
   "execution_count": 20,
   "metadata": {
    "execution": {
     "iopub.execute_input": "2022-05-01T03:53:37.386185Z",
     "iopub.status.busy": "2022-05-01T03:53:37.385849Z",
     "iopub.status.idle": "2022-05-01T03:53:39.521086Z",
     "shell.execute_reply": "2022-05-01T03:53:39.520030Z"
    },
    "papermill": {
     "duration": 2.175565,
     "end_time": "2022-05-01T03:53:39.523509",
     "exception": false,
     "start_time": "2022-05-01T03:53:37.347944",
     "status": "completed"
    },
    "tags": []
   },
   "outputs": [
    {
     "name": "stdout",
     "output_type": "stream",
     "text": [
      "shortest f_27 length: 10\n",
      "longest f_27 length: 10\n"
     ]
    }
   ],
   "source": [
    "print('shortest f_27 length:', data['f_27'].str.len().min()) \n",
    "print('longest f_27 length:', data['f_27'].str.len().max())"
   ]
  },
  {
   "cell_type": "code",
   "execution_count": 21,
   "metadata": {
    "execution": {
     "iopub.execute_input": "2022-05-01T03:53:44.223923Z",
     "iopub.status.busy": "2022-05-01T03:53:44.223287Z",
     "iopub.status.idle": "2022-05-01T03:53:51.649051Z",
     "shell.execute_reply": "2022-05-01T03:53:51.647803Z"
    },
    "papermill": {
     "duration": 7.468844,
     "end_time": "2022-05-01T03:53:51.652632",
     "exception": false,
     "start_time": "2022-05-01T03:53:44.183788",
     "status": "completed"
    },
    "tags": []
   },
   "outputs": [
    {
     "name": "stdout",
     "output_type": "stream",
     "text": [
      "pos0\n",
      "       count  probability\n",
      "f_27                     \n",
      "A     801905         0.54\n",
      "B     798095         0.44\n",
      "\n",
      "pos1\n",
      "       count  probability\n",
      "f_27                     \n",
      "A     257145         0.58\n",
      "B     435993         0.48\n",
      "C     401666         0.49\n",
      "D     265559         0.45\n",
      "E     140231         0.43\n",
      "F      63282         0.42\n",
      "G      24323         0.41\n",
      "H       8371         0.40\n",
      "I       2443         0.40\n",
      "J        737         0.38\n",
      "K        192         0.39\n",
      "L         41         0.28\n",
      "M         11         0.67\n",
      "N          5         1.00\n",
      "O          1          NaN\n",
      "\n",
      "pos2\n",
      "        count  probability\n",
      "f_27                      \n",
      "A      529808         0.53\n",
      "B     1070192         0.46\n",
      "\n",
      "pos3\n",
      "       count  probability\n",
      "f_27                     \n",
      "A     284998         0.57\n",
      "B     421821         0.48\n",
      "C     374183         0.48\n",
      "D     255340         0.45\n",
      "E     144944         0.43\n",
      "F      70362         0.44\n",
      "G      30402         0.45\n",
      "H      11628         0.47\n",
      "I       4244         0.48\n",
      "J       1404         0.51\n",
      "K        447         0.57\n",
      "L        159         0.66\n",
      "M         49         0.62\n",
      "N         15         0.75\n",
      "O          4         1.00\n",
      "\n",
      "pos4\n",
      "       count  probability\n",
      "f_27                     \n",
      "A     462505         0.48\n",
      "B     505626         0.45\n",
      "C     348495         0.49\n",
      "D     175725         0.53\n",
      "E      69457         0.57\n",
      "F      25195         0.64\n",
      "G       8876         0.72\n",
      "H       2902         0.76\n",
      "I        877         0.77\n",
      "J        269         0.82\n",
      "K         50         0.86\n",
      "L         16         1.00\n",
      "M          5         1.00\n",
      "N          1          NaN\n",
      "O          1         1.00\n",
      "\n",
      "pos5\n",
      "       count  probability\n",
      "f_27                     \n",
      "A     851579         0.47\n",
      "B     748421         0.51\n",
      "\n",
      "pos6\n",
      "       count  probability\n",
      "f_27                     \n",
      "A     181369         0.58\n",
      "B     356231         0.49\n",
      "C     390553         0.49\n",
      "D     308215         0.46\n",
      "E     191602         0.45\n",
      "F     100314         0.46\n",
      "G      44658         0.47\n",
      "H      17786         0.48\n",
      "I       6401         0.49\n",
      "J       2028         0.50\n",
      "K        594         0.52\n",
      "L        181         0.53\n",
      "M         49         0.67\n",
      "N         16         0.18\n",
      "O          3         1.00\n",
      "\n",
      "pos7\n",
      "      count  probability\n",
      "f_27                    \n",
      "A     80764         0.48\n",
      "B     81276         0.41\n",
      "C     81554         0.42\n",
      "D     81316         0.42\n",
      "E     81355         0.42\n",
      "F     81265         0.43\n",
      "G     81315         0.44\n",
      "H     81527         0.45\n",
      "I     81244         0.46\n",
      "J     81500         0.47\n",
      "K     81316         0.48\n",
      "L     81237         0.49\n",
      "M     81457         0.50\n",
      "N     81246         0.51\n",
      "O     80913         0.53\n",
      "P     80680         0.54\n",
      "Q     78952         0.53\n",
      "R     77088         0.55\n",
      "S     74399         0.59\n",
      "T     69596         0.64\n",
      "\n",
      "pos8\n",
      "       count  probability\n",
      "f_27                     \n",
      "A     284150         0.40\n",
      "B     398987         0.45\n",
      "C     379231         0.49\n",
      "D     265494         0.52\n",
      "E     150366         0.56\n",
      "F      72629         0.59\n",
      "G      31211         0.62\n",
      "H      11812         0.65\n",
      "I       4227         0.64\n",
      "J       1336         0.69\n",
      "K        392         0.66\n",
      "L        120         0.75\n",
      "M         32         0.68\n",
      "N         12         0.80\n",
      "O          1         1.00\n",
      "\n",
      "pos9\n",
      "       count  probability\n",
      "f_27                     \n",
      "A     205213         0.36\n",
      "B     372608         0.43\n",
      "C     389675         0.49\n",
      "D     294678         0.51\n",
      "E     178545         0.57\n",
      "F      91910         0.62\n",
      "G      41357         0.65\n",
      "H      16900         0.68\n",
      "I       6120         0.72\n",
      "J       2101         0.74\n",
      "K        630         0.76\n",
      "L        189         0.84\n",
      "M         60         0.80\n",
      "N         11         0.86\n",
      "O          3         1.00\n",
      "\n"
     ]
    }
   ],
   "source": [
    "for i in range(10):\n",
    "    print(f'pos{i}')\n",
    "    tg = data.groupby(data.f_27.str.get(i))\n",
    "    temp = pd.DataFrame({'count': tg.size(), 'probability': tg.target.mean().round(2)})\n",
    "    print(temp)\n",
    "    print()"
   ]
  },
  {
   "cell_type": "code",
   "execution_count": 22,
   "metadata": {
    "scrolled": true
   },
   "outputs": [
    {
     "data": {
      "text/html": [
       "<div>\n",
       "<style scoped>\n",
       "    .dataframe tbody tr th:only-of-type {\n",
       "        vertical-align: middle;\n",
       "    }\n",
       "\n",
       "    .dataframe tbody tr th {\n",
       "        vertical-align: top;\n",
       "    }\n",
       "\n",
       "    .dataframe thead th {\n",
       "        text-align: right;\n",
       "    }\n",
       "</style>\n",
       "<table border=\"1\" class=\"dataframe\">\n",
       "  <thead>\n",
       "    <tr style=\"text-align: right;\">\n",
       "      <th></th>\n",
       "      <th>id</th>\n",
       "      <th>f_00</th>\n",
       "      <th>f_01</th>\n",
       "      <th>f_02</th>\n",
       "      <th>f_03</th>\n",
       "      <th>f_04</th>\n",
       "      <th>f_05</th>\n",
       "      <th>f_06</th>\n",
       "      <th>f_07</th>\n",
       "      <th>f_08</th>\n",
       "      <th>...</th>\n",
       "      <th>pos1</th>\n",
       "      <th>pos2</th>\n",
       "      <th>pos3</th>\n",
       "      <th>pos4</th>\n",
       "      <th>pos5</th>\n",
       "      <th>pos6</th>\n",
       "      <th>pos7</th>\n",
       "      <th>pos8</th>\n",
       "      <th>pos9</th>\n",
       "      <th>unique_characters</th>\n",
       "    </tr>\n",
       "  </thead>\n",
       "  <tbody>\n",
       "    <tr>\n",
       "      <th>0</th>\n",
       "      <td>0</td>\n",
       "      <td>-1.373246</td>\n",
       "      <td>0.238887</td>\n",
       "      <td>-0.243376</td>\n",
       "      <td>0.567405</td>\n",
       "      <td>-0.647715</td>\n",
       "      <td>0.839326</td>\n",
       "      <td>0.113133</td>\n",
       "      <td>1</td>\n",
       "      <td>5</td>\n",
       "      <td>...</td>\n",
       "      <td>1</td>\n",
       "      <td>0</td>\n",
       "      <td>1</td>\n",
       "      <td>3</td>\n",
       "      <td>0</td>\n",
       "      <td>3</td>\n",
       "      <td>1</td>\n",
       "      <td>0</td>\n",
       "      <td>1</td>\n",
       "      <td>3</td>\n",
       "    </tr>\n",
       "    <tr>\n",
       "      <th>1</th>\n",
       "      <td>1</td>\n",
       "      <td>1.697021</td>\n",
       "      <td>-1.710322</td>\n",
       "      <td>-2.230332</td>\n",
       "      <td>-0.545661</td>\n",
       "      <td>1.113173</td>\n",
       "      <td>-1.552175</td>\n",
       "      <td>0.447825</td>\n",
       "      <td>1</td>\n",
       "      <td>3</td>\n",
       "      <td>...</td>\n",
       "      <td>2</td>\n",
       "      <td>0</td>\n",
       "      <td>2</td>\n",
       "      <td>2</td>\n",
       "      <td>0</td>\n",
       "      <td>3</td>\n",
       "      <td>2</td>\n",
       "      <td>4</td>\n",
       "      <td>1</td>\n",
       "      <td>5</td>\n",
       "    </tr>\n",
       "    <tr>\n",
       "      <th>2</th>\n",
       "      <td>2</td>\n",
       "      <td>1.681726</td>\n",
       "      <td>0.616746</td>\n",
       "      <td>-1.027689</td>\n",
       "      <td>0.810492</td>\n",
       "      <td>-0.609086</td>\n",
       "      <td>0.113965</td>\n",
       "      <td>-0.708660</td>\n",
       "      <td>1</td>\n",
       "      <td>0</td>\n",
       "      <td>...</td>\n",
       "      <td>0</td>\n",
       "      <td>0</td>\n",
       "      <td>4</td>\n",
       "      <td>0</td>\n",
       "      <td>1</td>\n",
       "      <td>2</td>\n",
       "      <td>10</td>\n",
       "      <td>0</td>\n",
       "      <td>3</td>\n",
       "      <td>6</td>\n",
       "    </tr>\n",
       "    <tr>\n",
       "      <th>3</th>\n",
       "      <td>3</td>\n",
       "      <td>-0.118172</td>\n",
       "      <td>-0.587835</td>\n",
       "      <td>-0.804638</td>\n",
       "      <td>2.086822</td>\n",
       "      <td>0.371005</td>\n",
       "      <td>-0.128831</td>\n",
       "      <td>-0.282575</td>\n",
       "      <td>3</td>\n",
       "      <td>2</td>\n",
       "      <td>...</td>\n",
       "      <td>3</td>\n",
       "      <td>1</td>\n",
       "      <td>1</td>\n",
       "      <td>0</td>\n",
       "      <td>0</td>\n",
       "      <td>2</td>\n",
       "      <td>1</td>\n",
       "      <td>2</td>\n",
       "      <td>1</td>\n",
       "      <td>4</td>\n",
       "    </tr>\n",
       "    <tr>\n",
       "      <th>4</th>\n",
       "      <td>4</td>\n",
       "      <td>1.148481</td>\n",
       "      <td>-0.176567</td>\n",
       "      <td>-0.664871</td>\n",
       "      <td>-1.101343</td>\n",
       "      <td>0.467875</td>\n",
       "      <td>0.500117</td>\n",
       "      <td>0.407515</td>\n",
       "      <td>3</td>\n",
       "      <td>3</td>\n",
       "      <td>...</td>\n",
       "      <td>3</td>\n",
       "      <td>1</td>\n",
       "      <td>2</td>\n",
       "      <td>1</td>\n",
       "      <td>1</td>\n",
       "      <td>2</td>\n",
       "      <td>7</td>\n",
       "      <td>5</td>\n",
       "      <td>4</td>\n",
       "      <td>6</td>\n",
       "    </tr>\n",
       "  </tbody>\n",
       "</table>\n",
       "<p>5 rows × 43 columns</p>\n",
       "</div>"
      ],
      "text/plain": [
       "   id      f_00      f_01      f_02      f_03      f_04      f_05      f_06  \\\n",
       "0   0 -1.373246  0.238887 -0.243376  0.567405 -0.647715  0.839326  0.113133   \n",
       "1   1  1.697021 -1.710322 -2.230332 -0.545661  1.113173 -1.552175  0.447825   \n",
       "2   2  1.681726  0.616746 -1.027689  0.810492 -0.609086  0.113965 -0.708660   \n",
       "3   3 -0.118172 -0.587835 -0.804638  2.086822  0.371005 -0.128831 -0.282575   \n",
       "4   4  1.148481 -0.176567 -0.664871 -1.101343  0.467875  0.500117  0.407515   \n",
       "\n",
       "   f_07  f_08  ...  pos1  pos2  pos3  pos4  pos5  pos6  pos7  pos8  pos9  \\\n",
       "0     1     5  ...     1     0     1     3     0     3     1     0     1   \n",
       "1     1     3  ...     2     0     2     2     0     3     2     4     1   \n",
       "2     1     0  ...     0     0     4     0     1     2    10     0     3   \n",
       "3     3     2  ...     3     1     1     0     0     2     1     2     1   \n",
       "4     3     3  ...     3     1     2     1     1     2     7     5     4   \n",
       "\n",
       "   unique_characters  \n",
       "0                  3  \n",
       "1                  5  \n",
       "2                  6  \n",
       "3                  4  \n",
       "4                  6  \n",
       "\n",
       "[5 rows x 43 columns]"
      ]
     },
     "execution_count": 22,
     "metadata": {},
     "output_type": "execute_result"
    }
   ],
   "source": [
    "for i in range(10):\n",
    "    data[f'pos{i}'] = data.f_27.str.get(i).apply(ord) - ord('A')\n",
    "data[\"unique_characters\"] = data.f_27.apply(lambda s: len(set(s)))\n",
    "data.drop(['f_27'], axis = 1, inplace = True)\n",
    "data.head()"
   ]
  },
  {
   "cell_type": "code",
   "execution_count": 23,
   "metadata": {},
   "outputs": [
    {
     "data": {
      "text/plain": [
       "(1600000, 43)"
      ]
     },
     "execution_count": 23,
     "metadata": {},
     "output_type": "execute_result"
    }
   ],
   "source": [
    "data.shape"
   ]
  },
  {
   "cell_type": "code",
   "execution_count": 24,
   "metadata": {},
   "outputs": [],
   "source": [
    "# All features \n",
    "data_num = list(data.select_dtypes(include = np.number).columns)\n",
    "data_obj = list(data.select_dtypes(include = np.object).columns) "
   ]
  },
  {
   "cell_type": "code",
   "execution_count": 25,
   "metadata": {},
   "outputs": [],
   "source": [
    "dum = pd.get_dummies(data[data_obj], drop_first=True)"
   ]
  },
  {
   "cell_type": "code",
   "execution_count": 26,
   "metadata": {},
   "outputs": [],
   "source": [
    "data_mod = pd.concat([data[data_num], dum], axis = 1)"
   ]
  },
  {
   "cell_type": "code",
   "execution_count": 27,
   "metadata": {},
   "outputs": [
    {
     "data": {
      "text/plain": [
       "(1600000, 44)"
      ]
     },
     "execution_count": 27,
     "metadata": {},
     "output_type": "execute_result"
    }
   ],
   "source": [
    "data_mod.shape"
   ]
  },
  {
   "cell_type": "code",
   "execution_count": 28,
   "metadata": {},
   "outputs": [
    {
     "name": "stdout",
     "output_type": "stream",
     "text": [
      "(900000, 44)\n",
      "(700000, 44)\n"
     ]
    }
   ],
   "source": [
    "data_mod_train = data_mod[data_mod['target'].notnull()]\n",
    "data_mod_test = data_mod[data_mod['target'].isnull()]\n",
    "\n",
    "print(data_mod_train.shape)\n",
    "print(data_mod_test.shape)"
   ]
  },
  {
   "cell_type": "code",
   "execution_count": 29,
   "metadata": {},
   "outputs": [],
   "source": [
    "# take small sample for rapid testing \n",
    "data_mod_train = data_mod_train.groupby('target').apply(lambda x: x.sample(frac=0.1, random_state=100))"
   ]
  },
  {
   "cell_type": "code",
   "execution_count": 30,
   "metadata": {},
   "outputs": [
    {
     "data": {
      "text/plain": [
       "(90000, 44)"
      ]
     },
     "execution_count": 30,
     "metadata": {},
     "output_type": "execute_result"
    }
   ],
   "source": [
    "data_mod_train.shape"
   ]
  },
  {
   "cell_type": "code",
   "execution_count": 31,
   "metadata": {},
   "outputs": [],
   "source": [
    "x = data_mod_train.drop(['id','target'], axis = 1)\n",
    "y = data_mod_train['target']"
   ]
  },
  {
   "cell_type": "code",
   "execution_count": 32,
   "metadata": {},
   "outputs": [],
   "source": [
    "x_train, x_val, y_train, y_val = train_test_split(x, y, stratify=y, test_size = 0.3, random_state = 10)"
   ]
  },
  {
   "cell_type": "code",
   "execution_count": 33,
   "metadata": {
    "scrolled": true
   },
   "outputs": [
    {
     "name": "stdout",
     "output_type": "stream",
     "text": [
      "48.649 % is positive for target variable\n"
     ]
    }
   ],
   "source": [
    "print(f'{round(sum(y==1)/y.count()*100,3)} % is positive for target variable')"
   ]
  },
  {
   "cell_type": "markdown",
   "metadata": {},
   "source": [
    "### Model Building"
   ]
  },
  {
   "cell_type": "code",
   "execution_count": 34,
   "metadata": {},
   "outputs": [],
   "source": [
    "# Result Collection List\n",
    "model = list()\n",
    "resample = list()\n",
    "precision = list()\n",
    "recall = list()\n",
    "F1score = list()\n",
    "AUCROC = list()\n",
    "accuracy = list()"
   ]
  },
  {
   "cell_type": "code",
   "execution_count": 35,
   "metadata": {},
   "outputs": [],
   "source": [
    "# Function for appending data into corresponding list\n",
    "def test_eval(clf_model, x_test, y_test, algo=None, sampling=None):\n",
    "    # Test set prediction\n",
    "    y_prob=clf_model.predict_proba(x_test)\n",
    "    y_pred=clf_model.predict(x_test)\n",
    "\n",
    "    print('Confusion Matrix')\n",
    "    print('='*60)\n",
    "    print(confusion_matrix(y_test,y_pred),\"\\n\")\n",
    "    print('Classification Report')\n",
    "    print('='*60)\n",
    "    print(classification_report(y_test,y_pred),\"\\n\")\n",
    "    print('AUC-ROC')\n",
    "    print('='*60)\n",
    "    print(roc_auc_score(y_test, y_prob[:,1]))\n",
    "          \n",
    "    model.append(algo)\n",
    "    accuracy.append(accuracy_score(y_test,y_pred))\n",
    "    precision.append(precision_score(y_test,y_pred))\n",
    "    recall.append(recall_score(y_test,y_pred))\n",
    "    F1score.append(f1_score(y_test,y_pred))\n",
    "    AUCROC.append(roc_auc_score(y_test, y_prob[:,1]))\n",
    "    resample.append(sampling)"
   ]
  },
  {
   "cell_type": "code",
   "execution_count": 36,
   "metadata": {},
   "outputs": [],
   "source": [
    "# 5-fold Cross validation object\n",
    "cv = StratifiedKFold(n_splits=5, random_state=42, shuffle=True)"
   ]
  },
  {
   "cell_type": "markdown",
   "metadata": {},
   "source": [
    "### Logistic Regression"
   ]
  },
  {
   "cell_type": "code",
   "execution_count": 44,
   "metadata": {
    "scrolled": true
   },
   "outputs": [
    {
     "name": "stderr",
     "output_type": "stream",
     "text": [
      "C:\\Users\\User\\anaconda3\\lib\\site-packages\\sklearn\\linear_model\\_logistic.py:762: ConvergenceWarning: lbfgs failed to converge (status=1):\n",
      "STOP: TOTAL NO. of ITERATIONS REACHED LIMIT.\n",
      "\n",
      "Increase the number of iterations (max_iter) or scale the data as shown in:\n",
      "    https://scikit-learn.org/stable/modules/preprocessing.html\n",
      "Please also refer to the documentation for alternative solver options:\n",
      "    https://scikit-learn.org/stable/modules/linear_model.html#logistic-regression\n",
      "  n_iter_i = _check_optimize_result(\n"
     ]
    },
    {
     "data": {
      "text/plain": [
       "LogisticRegression(C=0.007196856730011514, class_weight='balanced',\n",
       "                   random_state=42)"
      ]
     },
     "execution_count": 44,
     "metadata": {},
     "output_type": "execute_result"
    }
   ],
   "source": [
    "log_model=LogisticRegression(random_state=42)\n",
    "\n",
    "params={'C':np.logspace(-10, 1, 15),'class_weight':[None,'balanced'],'penalty':['l1','l2']}\n",
    "\n",
    "# Create grid search using 10-fold cross validation\n",
    "clf_LR = GridSearchCV(log_model, params, cv=cv, scoring='roc_auc', n_jobs=-1)\n",
    "clf_LR.fit(x_train, y_train)\n",
    "clf_LR.best_estimator_"
   ]
  },
  {
   "cell_type": "code",
   "execution_count": 46,
   "metadata": {
    "scrolled": true
   },
   "outputs": [
    {
     "name": "stdout",
     "output_type": "stream",
     "text": [
      "Confusion Matrix\n",
      "============================================================\n",
      "[[9348 4517]\n",
      " [3962 9173]] \n",
      "\n",
      "Classification Report\n",
      "============================================================\n",
      "              precision    recall  f1-score   support\n",
      "\n",
      "         0.0       0.70      0.67      0.69     13865\n",
      "         1.0       0.67      0.70      0.68     13135\n",
      "\n",
      "    accuracy                           0.69     27000\n",
      "   macro avg       0.69      0.69      0.69     27000\n",
      "weighted avg       0.69      0.69      0.69     27000\n",
      " \n",
      "\n",
      "AUC-ROC\n",
      "============================================================\n",
      "0.7515595694026539\n"
     ]
    }
   ],
   "source": [
    "test_eval(clf_LR, x_val, y_val, 'Logistic Regression', 'Actual')"
   ]
  },
  {
   "cell_type": "markdown",
   "metadata": {},
   "source": [
    "### Decision Tree"
   ]
  },
  {
   "cell_type": "code",
   "execution_count": 48,
   "metadata": {},
   "outputs": [],
   "source": [
    "estimators = [2,10,30,50,100]\n",
    "# Maximum number of depth in each tree:\n",
    "max_depth = [i for i in range(5,16,2)]\n",
    "# Minimum number of samples to consider to split a node:\n",
    "min_samples_split = [2, 5, 10, 15, 20, 50, 100]\n",
    "# Minimum number of samples to consider at each leaf node:\n",
    "min_samples_leaf = [1, 2, 5]"
   ]
  },
  {
   "cell_type": "code",
   "execution_count": 49,
   "metadata": {},
   "outputs": [
    {
     "name": "stdout",
     "output_type": "stream",
     "text": [
      "Fitting 5 folds for each of 10 candidates, totalling 50 fits\n"
     ]
    },
    {
     "name": "stderr",
     "output_type": "stream",
     "text": [
      "[Parallel(n_jobs=-1)]: Using backend LokyBackend with 8 concurrent workers.\n",
      "[Parallel(n_jobs=-1)]: Done  25 tasks      | elapsed:   10.5s\n",
      "[Parallel(n_jobs=-1)]: Done  50 out of  50 | elapsed:   21.5s finished\n"
     ]
    },
    {
     "data": {
      "text/plain": [
       "DecisionTreeClassifier(max_depth=15, min_samples_leaf=2, min_samples_split=50,\n",
       "                       random_state=42)"
      ]
     },
     "execution_count": 49,
     "metadata": {},
     "output_type": "execute_result"
    }
   ],
   "source": [
    "tree_model = DecisionTreeClassifier(random_state=42)\n",
    "\n",
    "tree_param_grid = { \n",
    "    'max_depth': max_depth,\n",
    "    'min_samples_split': min_samples_split,\n",
    "    'min_samples_leaf': min_samples_leaf\n",
    "}\n",
    "\n",
    "clf_DT = RandomizedSearchCV(tree_model, tree_param_grid, cv=cv, scoring='roc_auc', n_jobs=-1, verbose=2, random_state=42)\n",
    "clf_DT.fit(x_train, y_train)\n",
    "clf_DT.best_estimator_"
   ]
  },
  {
   "cell_type": "code",
   "execution_count": 50,
   "metadata": {
    "scrolled": true
   },
   "outputs": [
    {
     "name": "stdout",
     "output_type": "stream",
     "text": [
      "Confusion Matrix\n",
      "============================================================\n",
      "[[10727  3138]\n",
      " [ 3620  9515]] \n",
      "\n",
      "Classification Report\n",
      "============================================================\n",
      "              precision    recall  f1-score   support\n",
      "\n",
      "         0.0       0.75      0.77      0.76     13865\n",
      "         1.0       0.75      0.72      0.74     13135\n",
      "\n",
      "    accuracy                           0.75     27000\n",
      "   macro avg       0.75      0.75      0.75     27000\n",
      "weighted avg       0.75      0.75      0.75     27000\n",
      " \n",
      "\n",
      "AUC-ROC\n",
      "============================================================\n",
      "0.816636614062598\n"
     ]
    }
   ],
   "source": [
    "test_eval(clf_DT, x_val, y_val, 'Decision Tree', 'Actual')"
   ]
  },
  {
   "cell_type": "markdown",
   "metadata": {},
   "source": [
    "### Random Forest"
   ]
  },
  {
   "cell_type": "code",
   "execution_count": 51,
   "metadata": {},
   "outputs": [
    {
     "name": "stdout",
     "output_type": "stream",
     "text": [
      "Fitting 5 folds for each of 20 candidates, totalling 100 fits\n"
     ]
    },
    {
     "name": "stderr",
     "output_type": "stream",
     "text": [
      "[Parallel(n_jobs=-1)]: Using backend LokyBackend with 8 concurrent workers.\n",
      "[Parallel(n_jobs=-1)]: Done  25 tasks      | elapsed:   41.8s\n",
      "[Parallel(n_jobs=-1)]: Done 100 out of 100 | elapsed:  2.5min finished\n"
     ]
    },
    {
     "data": {
      "text/plain": [
       "RandomForestClassifier(max_depth=15, min_samples_split=20, random_state=42)"
      ]
     },
     "execution_count": 51,
     "metadata": {},
     "output_type": "execute_result"
    }
   ],
   "source": [
    "rf_model = RandomForestClassifier(random_state=42)\n",
    "\n",
    "rf_params={'n_estimators':estimators,\n",
    "           'max_depth':max_depth,\n",
    "           'min_samples_split':min_samples_split}\n",
    "\n",
    "clf_RF = RandomizedSearchCV(rf_model, rf_params, cv=cv, scoring='roc_auc', n_jobs=-1, n_iter=20, verbose=2, random_state=42)\n",
    "clf_RF.fit(x_train, y_train)\n",
    "clf_RF.best_estimator_"
   ]
  },
  {
   "cell_type": "code",
   "execution_count": 52,
   "metadata": {
    "scrolled": true
   },
   "outputs": [
    {
     "name": "stdout",
     "output_type": "stream",
     "text": [
      "Confusion Matrix\n",
      "============================================================\n",
      "[[12210  1655]\n",
      " [ 2379 10756]] \n",
      "\n",
      "Classification Report\n",
      "============================================================\n",
      "              precision    recall  f1-score   support\n",
      "\n",
      "         0.0       0.84      0.88      0.86     13865\n",
      "         1.0       0.87      0.82      0.84     13135\n",
      "\n",
      "    accuracy                           0.85     27000\n",
      "   macro avg       0.85      0.85      0.85     27000\n",
      "weighted avg       0.85      0.85      0.85     27000\n",
      " \n",
      "\n",
      "AUC-ROC\n",
      "============================================================\n",
      "0.9239422123524864\n"
     ]
    }
   ],
   "source": [
    "test_eval(clf_RF, x_val, y_val, 'Random Forest', 'Actual')"
   ]
  },
  {
   "cell_type": "markdown",
   "metadata": {},
   "source": [
    "### XGBoost"
   ]
  },
  {
   "cell_type": "code",
   "execution_count": 53,
   "metadata": {},
   "outputs": [
    {
     "name": "stdout",
     "output_type": "stream",
     "text": [
      "Fitting 5 folds for each of 20 candidates, totalling 100 fits\n"
     ]
    },
    {
     "name": "stderr",
     "output_type": "stream",
     "text": [
      "[Parallel(n_jobs=-1)]: Using backend LokyBackend with 8 concurrent workers.\n",
      "[Parallel(n_jobs=-1)]: Done  25 tasks      | elapsed:  1.9min\n",
      "[Parallel(n_jobs=-1)]: Done 100 out of 100 | elapsed:  8.6min finished\n",
      "C:\\Users\\User\\anaconda3\\lib\\site-packages\\xgboost\\sklearn.py:888: UserWarning: The use of label encoder in XGBClassifier is deprecated and will be removed in a future release. To remove this warning, do the following: 1) Pass option use_label_encoder=False when constructing XGBClassifier object; and 2) Encode your labels (y) as integers starting with 0, i.e. 0, 1, 2, ..., [num_class - 1].\n",
      "  warnings.warn(label_encoder_deprecation_msg, UserWarning)\n"
     ]
    },
    {
     "name": "stdout",
     "output_type": "stream",
     "text": [
      "[18:12:24] WARNING: C:/Users/Administrator/workspace/xgboost-win64_release_1.3.0/src/learner.cc:1061: Starting in XGBoost 1.3.0, the default evaluation metric used with the objective 'binary:logistic' was changed from 'error' to 'logloss'. Explicitly set eval_metric if you'd like to restore the old behavior.\n"
     ]
    },
    {
     "data": {
      "text/plain": [
       "XGBClassifier(base_score=0.5, booster='gbtree', colsample_bylevel=1,\n",
       "              colsample_bynode=1, colsample_bytree=0.8, gamma=5, gpu_id=-1,\n",
       "              importance_type='gain', interaction_constraints='',\n",
       "              learning_rate=0.300000012, max_delta_step=0, max_depth=5,\n",
       "              min_child_weight=5, missing=nan, monotone_constraints='()',\n",
       "              n_estimators=100, n_jobs=8, num_parallel_tree=1, random_state=42,\n",
       "              reg_alpha=0, reg_lambda=1, scale_pos_weight=1, subsample=0.8,\n",
       "              tree_method='exact', validate_parameters=1, verbosity=None)"
      ]
     },
     "execution_count": 53,
     "metadata": {},
     "output_type": "execute_result"
    }
   ],
   "source": [
    "classifier_XGB = XGBClassifier(random_state=42)\n",
    "\n",
    "params = {\n",
    "        'min_child_weight': [1, 5, 10, 15],\n",
    "        'gamma': [0.5, 1, 1.5, 2, 5, 10],\n",
    "        'subsample': [0.6, 0.8, 1.0],\n",
    "        'colsample_bytree': [0.6, 0.8, 1.0],\n",
    "        'max_depth': [3, 4, 5, 10]\n",
    "        }\n",
    "\n",
    "clf_XGB = RandomizedSearchCV(classifier_XGB, param_distributions=params, n_iter=20, scoring='roc_auc', \n",
    "                                   n_jobs=-1, cv=cv, verbose=2, random_state=42)\n",
    "clf_XGB.fit(x_train, y_train)\n",
    "clf_XGB.best_estimator_"
   ]
  },
  {
   "cell_type": "code",
   "execution_count": 54,
   "metadata": {
    "scrolled": true
   },
   "outputs": [
    {
     "name": "stdout",
     "output_type": "stream",
     "text": [
      "Confusion Matrix\n",
      "============================================================\n",
      "[[12488  1377]\n",
      " [ 1526 11609]] \n",
      "\n",
      "Classification Report\n",
      "============================================================\n",
      "              precision    recall  f1-score   support\n",
      "\n",
      "         0.0       0.89      0.90      0.90     13865\n",
      "         1.0       0.89      0.88      0.89     13135\n",
      "\n",
      "    accuracy                           0.89     27000\n",
      "   macro avg       0.89      0.89      0.89     27000\n",
      "weighted avg       0.89      0.89      0.89     27000\n",
      " \n",
      "\n",
      "AUC-ROC\n",
      "============================================================\n",
      "0.9558650733849202\n"
     ]
    }
   ],
   "source": [
    "test_eval(clf_XGB, x_val, y_val, 'XGBoost', 'Actual')"
   ]
  },
  {
   "cell_type": "markdown",
   "metadata": {},
   "source": [
    "### LightGBM"
   ]
  },
  {
   "cell_type": "code",
   "execution_count": 93,
   "metadata": {
    "scrolled": true
   },
   "outputs": [
    {
     "name": "stdout",
     "output_type": "stream",
     "text": [
      "Fitting 5 folds for each of 20 candidates, totalling 100 fits\n"
     ]
    },
    {
     "name": "stderr",
     "output_type": "stream",
     "text": [
      "[Parallel(n_jobs=-1)]: Using backend LokyBackend with 8 concurrent workers.\n",
      "[Parallel(n_jobs=-1)]: Done  25 tasks      | elapsed:  3.3min\n",
      "[Parallel(n_jobs=-1)]: Done 100 out of 100 | elapsed: 11.1min finished\n"
     ]
    },
    {
     "data": {
      "text/plain": [
       "LGBMClassifier(colsample_bytree=0.8, max_depth=15, min_split_gain=0.2,\n",
       "               n_estimators=5000, num_leaves=50, random_state=42, reg_alpha=1.0,\n",
       "               reg_lambda=1.0, subsample=0.7, subsample_freq=20)"
      ]
     },
     "execution_count": 93,
     "metadata": {},
     "output_type": "execute_result"
    }
   ],
   "source": [
    "classifier_LGBM = LGBMClassifier(random_state=42)\n",
    "\n",
    "params = {\n",
    "        'n_estimators': [400, 700, 1000, 5000],\n",
    "        'colsample_bytree': [0.7, 0.8, 1.0],\n",
    "        'max_depth': [15,20,25],\n",
    "        'num_leaves': [50, 100, 200, 500, 1000],\n",
    "        'reg_alpha': [1.0, 1.1, 1.2],\n",
    "        'reg_lambda': [1.0, 1.1, 1.2],\n",
    "        'min_split_gain': [0.2, 0.3, 0.4],\n",
    "        'subsample': [0.7, 0.8, 0.9],\n",
    "        'subsample_freq': [20, 30, 40]\n",
    "        }\n",
    "\n",
    "clf_LGBM = RandomizedSearchCV(classifier_LGBM, param_distributions=params, n_iter=20, scoring='roc_auc', \n",
    "                                   n_jobs=-1, cv=cv, verbose=2, random_state=42)\n",
    "clf_LGBM.fit(x_train, y_train)\n",
    "clf_LGBM.best_estimator_"
   ]
  },
  {
   "cell_type": "code",
   "execution_count": 94,
   "metadata": {
    "scrolled": true
   },
   "outputs": [
    {
     "name": "stdout",
     "output_type": "stream",
     "text": [
      "Confusion Matrix\n",
      "============================================================\n",
      "[[12782  1083]\n",
      " [ 1140 11995]] \n",
      "\n",
      "Classification Report\n",
      "============================================================\n",
      "              precision    recall  f1-score   support\n",
      "\n",
      "         0.0       0.92      0.92      0.92     13865\n",
      "         1.0       0.92      0.91      0.92     13135\n",
      "\n",
      "    accuracy                           0.92     27000\n",
      "   macro avg       0.92      0.92      0.92     27000\n",
      "weighted avg       0.92      0.92      0.92     27000\n",
      " \n",
      "\n",
      "AUC-ROC\n",
      "============================================================\n",
      "0.9733894804583487\n"
     ]
    }
   ],
   "source": [
    "test_eval(clf_LGBM, x_val, y_val, 'LGBM', 'Actual')"
   ]
  },
  {
   "cell_type": "markdown",
   "metadata": {},
   "source": [
    "### CatBoost"
   ]
  },
  {
   "cell_type": "code",
   "execution_count": 63,
   "metadata": {},
   "outputs": [
    {
     "name": "stdout",
     "output_type": "stream",
     "text": [
      "Fitting 5 folds for each of 20 candidates, totalling 100 fits\n"
     ]
    },
    {
     "name": "stderr",
     "output_type": "stream",
     "text": [
      "[Parallel(n_jobs=-1)]: Using backend LokyBackend with 8 concurrent workers.\n",
      "[Parallel(n_jobs=-1)]: Done  25 tasks      | elapsed:   47.3s\n",
      "[Parallel(n_jobs=-1)]: Done 100 out of 100 | elapsed:  2.4min finished\n"
     ]
    },
    {
     "name": "stdout",
     "output_type": "stream",
     "text": [
      "0:\tlearn: 0.6847211\ttotal: 289ms\tremaining: 14.1s\n",
      "1:\tlearn: 0.6762790\ttotal: 421ms\tremaining: 10.1s\n",
      "2:\tlearn: 0.6675927\ttotal: 554ms\tremaining: 8.68s\n",
      "3:\tlearn: 0.6605327\ttotal: 685ms\tremaining: 7.88s\n",
      "4:\tlearn: 0.6504437\ttotal: 829ms\tremaining: 7.46s\n",
      "5:\tlearn: 0.6431064\ttotal: 959ms\tremaining: 7.03s\n",
      "6:\tlearn: 0.6383279\ttotal: 1.11s\tremaining: 6.84s\n",
      "7:\tlearn: 0.6324623\ttotal: 1.26s\tremaining: 6.6s\n",
      "8:\tlearn: 0.6271291\ttotal: 1.39s\tremaining: 6.32s\n",
      "9:\tlearn: 0.6209464\ttotal: 1.51s\tremaining: 6.03s\n",
      "10:\tlearn: 0.6116453\ttotal: 1.63s\tremaining: 5.79s\n",
      "11:\tlearn: 0.6041503\ttotal: 1.76s\tremaining: 5.59s\n",
      "12:\tlearn: 0.5963754\ttotal: 1.89s\tremaining: 5.38s\n",
      "13:\tlearn: 0.5899915\ttotal: 2s\tremaining: 5.15s\n",
      "14:\tlearn: 0.5851331\ttotal: 2.13s\tremaining: 4.96s\n",
      "15:\tlearn: 0.5811411\ttotal: 2.29s\tremaining: 4.86s\n",
      "16:\tlearn: 0.5746510\ttotal: 2.43s\tremaining: 4.72s\n",
      "17:\tlearn: 0.5684890\ttotal: 2.56s\tremaining: 4.55s\n",
      "18:\tlearn: 0.5615610\ttotal: 2.68s\tremaining: 4.38s\n",
      "19:\tlearn: 0.5581193\ttotal: 2.78s\tremaining: 4.18s\n",
      "20:\tlearn: 0.5542570\ttotal: 2.89s\tremaining: 3.99s\n",
      "21:\tlearn: 0.5471462\ttotal: 3.02s\tremaining: 3.84s\n",
      "22:\tlearn: 0.5435683\ttotal: 3.13s\tremaining: 3.68s\n",
      "23:\tlearn: 0.5388809\ttotal: 3.24s\tremaining: 3.51s\n",
      "24:\tlearn: 0.5336165\ttotal: 3.35s\tremaining: 3.35s\n",
      "25:\tlearn: 0.5307747\ttotal: 3.45s\tremaining: 3.19s\n",
      "26:\tlearn: 0.5272521\ttotal: 3.56s\tremaining: 3.04s\n",
      "27:\tlearn: 0.5246000\ttotal: 3.66s\tremaining: 2.88s\n",
      "28:\tlearn: 0.5217587\ttotal: 3.76s\tremaining: 2.72s\n",
      "29:\tlearn: 0.5170176\ttotal: 3.87s\tremaining: 2.58s\n",
      "30:\tlearn: 0.5120003\ttotal: 3.98s\tremaining: 2.44s\n",
      "31:\tlearn: 0.5090779\ttotal: 4.07s\tremaining: 2.29s\n",
      "32:\tlearn: 0.5063097\ttotal: 4.17s\tremaining: 2.15s\n",
      "33:\tlearn: 0.5022812\ttotal: 4.28s\tremaining: 2.02s\n",
      "34:\tlearn: 0.4988558\ttotal: 4.39s\tremaining: 1.88s\n",
      "35:\tlearn: 0.4959769\ttotal: 4.5s\tremaining: 1.75s\n",
      "36:\tlearn: 0.4928030\ttotal: 4.6s\tremaining: 1.62s\n",
      "37:\tlearn: 0.4882904\ttotal: 4.71s\tremaining: 1.49s\n",
      "38:\tlearn: 0.4852002\ttotal: 4.81s\tremaining: 1.36s\n",
      "39:\tlearn: 0.4825680\ttotal: 4.91s\tremaining: 1.23s\n",
      "40:\tlearn: 0.4802999\ttotal: 5.01s\tremaining: 1.1s\n",
      "41:\tlearn: 0.4783530\ttotal: 5.12s\tremaining: 975ms\n",
      "42:\tlearn: 0.4762975\ttotal: 5.22s\tremaining: 849ms\n",
      "43:\tlearn: 0.4723741\ttotal: 5.33s\tremaining: 727ms\n",
      "44:\tlearn: 0.4704987\ttotal: 5.44s\tremaining: 604ms\n",
      "45:\tlearn: 0.4672450\ttotal: 5.54s\tremaining: 482ms\n",
      "46:\tlearn: 0.4653492\ttotal: 5.64s\tremaining: 360ms\n",
      "47:\tlearn: 0.4623548\ttotal: 5.75s\tremaining: 240ms\n",
      "48:\tlearn: 0.4593762\ttotal: 5.87s\tremaining: 120ms\n",
      "49:\tlearn: 0.4573510\ttotal: 5.97s\tremaining: 0us\n"
     ]
    },
    {
     "data": {
      "text/plain": [
       "<catboost.core.CatBoostClassifier at 0x14e9e3abc40>"
      ]
     },
     "execution_count": 63,
     "metadata": {},
     "output_type": "execute_result"
    }
   ],
   "source": [
    "classifier_CBC = CatBoostClassifier(random_state=42)\n",
    "\n",
    "params = {\n",
    "    'depth' : [4,5,6,7,8,9, 10],\n",
    "    'learning_rate' : [0.01,0.02,0.03,0.04],\n",
    "    'iterations' : [10, 20,30,40,50,60,70,80,90, 100]}\n",
    "\n",
    "clf_CBC = RandomizedSearchCV(classifier_CBC, param_distributions=params, n_iter=20, scoring='roc_auc', \n",
    "                                   n_jobs=-1, cv=cv, verbose=2, random_state=42)\n",
    "clf_CBC.fit(x_train, y_train)\n",
    "clf_CBC.best_estimator_"
   ]
  },
  {
   "cell_type": "code",
   "execution_count": 64,
   "metadata": {
    "scrolled": true
   },
   "outputs": [
    {
     "name": "stdout",
     "output_type": "stream",
     "text": [
      "Confusion Matrix\n",
      "============================================================\n",
      "[[12241  1624]\n",
      " [ 2208 10927]] \n",
      "\n",
      "Classification Report\n",
      "============================================================\n",
      "              precision    recall  f1-score   support\n",
      "\n",
      "         0.0       0.85      0.88      0.86     13865\n",
      "         1.0       0.87      0.83      0.85     13135\n",
      "\n",
      "    accuracy                           0.86     27000\n",
      "   macro avg       0.86      0.86      0.86     27000\n",
      "weighted avg       0.86      0.86      0.86     27000\n",
      " \n",
      "\n",
      "AUC-ROC\n",
      "============================================================\n",
      "0.9278601380899701\n"
     ]
    }
   ],
   "source": [
    "test_eval(clf_CBC, x_val, y_val, 'CatBoost', 'Actual')"
   ]
  },
  {
   "cell_type": "markdown",
   "metadata": {},
   "source": [
    "### Champion Model"
   ]
  },
  {
   "cell_type": "code",
   "execution_count": 95,
   "metadata": {},
   "outputs": [
    {
     "data": {
      "text/plain": [
       "{'subsample_freq': 20,\n",
       " 'subsample': 0.7,\n",
       " 'reg_lambda': 1.0,\n",
       " 'reg_alpha': 1.0,\n",
       " 'num_leaves': 50,\n",
       " 'n_estimators': 5000,\n",
       " 'min_split_gain': 0.2,\n",
       " 'max_depth': 15,\n",
       " 'colsample_bytree': 0.8}"
      ]
     },
     "execution_count": 95,
     "metadata": {},
     "output_type": "execute_result"
    }
   ],
   "source": [
    "clf_LGBM.best_params_"
   ]
  },
  {
   "cell_type": "code",
   "execution_count": 96,
   "metadata": {},
   "outputs": [],
   "source": [
    "classifier_LGBM = LGBMClassifier(subsample_freq=20,\n",
    "                                 subsample=0.7, \n",
    "                                 reg_lambda=1.0, \n",
    "                                 reg_alpha=1.0,\n",
    "                                 num_leaves=50,\n",
    "                                 n_estimators=5000,\n",
    "                                 min_split_gain=0.2,\n",
    "                                 max_depth=15,\n",
    "                                 colsample_bytree=0.8)"
   ]
  },
  {
   "cell_type": "markdown",
   "metadata": {},
   "source": [
    "### Applying model on unseen data "
   ]
  },
  {
   "cell_type": "code",
   "execution_count": 97,
   "metadata": {},
   "outputs": [
    {
     "data": {
      "text/html": [
       "<div>\n",
       "<style scoped>\n",
       "    .dataframe tbody tr th:only-of-type {\n",
       "        vertical-align: middle;\n",
       "    }\n",
       "\n",
       "    .dataframe tbody tr th {\n",
       "        vertical-align: top;\n",
       "    }\n",
       "\n",
       "    .dataframe thead th {\n",
       "        text-align: right;\n",
       "    }\n",
       "</style>\n",
       "<table border=\"1\" class=\"dataframe\">\n",
       "  <thead>\n",
       "    <tr style=\"text-align: right;\">\n",
       "      <th></th>\n",
       "      <th>id</th>\n",
       "      <th>f_00</th>\n",
       "      <th>f_01</th>\n",
       "      <th>f_02</th>\n",
       "      <th>f_03</th>\n",
       "      <th>f_04</th>\n",
       "      <th>f_05</th>\n",
       "      <th>f_06</th>\n",
       "      <th>f_07</th>\n",
       "      <th>f_08</th>\n",
       "      <th>...</th>\n",
       "      <th>pos4</th>\n",
       "      <th>pos5</th>\n",
       "      <th>pos6</th>\n",
       "      <th>pos7</th>\n",
       "      <th>pos8</th>\n",
       "      <th>pos9</th>\n",
       "      <th>unique_characters</th>\n",
       "      <th>f_29_1</th>\n",
       "      <th>f_30_1</th>\n",
       "      <th>f_30_2</th>\n",
       "    </tr>\n",
       "  </thead>\n",
       "  <tbody>\n",
       "    <tr>\n",
       "      <th>0</th>\n",
       "      <td>900000</td>\n",
       "      <td>0.442517</td>\n",
       "      <td>0.174380</td>\n",
       "      <td>-0.999816</td>\n",
       "      <td>0.762741</td>\n",
       "      <td>0.186778</td>\n",
       "      <td>-1.074775</td>\n",
       "      <td>0.501888</td>\n",
       "      <td>6</td>\n",
       "      <td>6</td>\n",
       "      <td>...</td>\n",
       "      <td>1</td>\n",
       "      <td>0</td>\n",
       "      <td>3</td>\n",
       "      <td>11</td>\n",
       "      <td>0</td>\n",
       "      <td>2</td>\n",
       "      <td>5</td>\n",
       "      <td>0</td>\n",
       "      <td>0</td>\n",
       "      <td>0</td>\n",
       "    </tr>\n",
       "    <tr>\n",
       "      <th>1</th>\n",
       "      <td>900001</td>\n",
       "      <td>-0.605598</td>\n",
       "      <td>-0.305715</td>\n",
       "      <td>0.627667</td>\n",
       "      <td>-0.578898</td>\n",
       "      <td>-1.750931</td>\n",
       "      <td>1.355550</td>\n",
       "      <td>-0.190911</td>\n",
       "      <td>1</td>\n",
       "      <td>3</td>\n",
       "      <td>...</td>\n",
       "      <td>1</td>\n",
       "      <td>0</td>\n",
       "      <td>4</td>\n",
       "      <td>6</td>\n",
       "      <td>2</td>\n",
       "      <td>1</td>\n",
       "      <td>6</td>\n",
       "      <td>1</td>\n",
       "      <td>0</td>\n",
       "      <td>0</td>\n",
       "    </tr>\n",
       "    <tr>\n",
       "      <th>2</th>\n",
       "      <td>900002</td>\n",
       "      <td>0.303990</td>\n",
       "      <td>2.445110</td>\n",
       "      <td>0.246515</td>\n",
       "      <td>0.818248</td>\n",
       "      <td>0.359731</td>\n",
       "      <td>-1.331845</td>\n",
       "      <td>1.358622</td>\n",
       "      <td>3</td>\n",
       "      <td>3</td>\n",
       "      <td>...</td>\n",
       "      <td>0</td>\n",
       "      <td>1</td>\n",
       "      <td>1</td>\n",
       "      <td>10</td>\n",
       "      <td>4</td>\n",
       "      <td>4</td>\n",
       "      <td>5</td>\n",
       "      <td>0</td>\n",
       "      <td>1</td>\n",
       "      <td>0</td>\n",
       "    </tr>\n",
       "    <tr>\n",
       "      <th>3</th>\n",
       "      <td>900003</td>\n",
       "      <td>0.154053</td>\n",
       "      <td>0.260126</td>\n",
       "      <td>-1.367092</td>\n",
       "      <td>-0.093175</td>\n",
       "      <td>-1.111034</td>\n",
       "      <td>-0.948481</td>\n",
       "      <td>1.119220</td>\n",
       "      <td>0</td>\n",
       "      <td>0</td>\n",
       "      <td>...</td>\n",
       "      <td>0</td>\n",
       "      <td>0</td>\n",
       "      <td>2</td>\n",
       "      <td>16</td>\n",
       "      <td>2</td>\n",
       "      <td>2</td>\n",
       "      <td>5</td>\n",
       "      <td>0</td>\n",
       "      <td>0</td>\n",
       "      <td>0</td>\n",
       "    </tr>\n",
       "    <tr>\n",
       "      <th>4</th>\n",
       "      <td>900004</td>\n",
       "      <td>-1.651904</td>\n",
       "      <td>-0.424266</td>\n",
       "      <td>-0.667356</td>\n",
       "      <td>-0.322124</td>\n",
       "      <td>-0.089462</td>\n",
       "      <td>0.181705</td>\n",
       "      <td>1.784983</td>\n",
       "      <td>2</td>\n",
       "      <td>2</td>\n",
       "      <td>...</td>\n",
       "      <td>1</td>\n",
       "      <td>1</td>\n",
       "      <td>3</td>\n",
       "      <td>0</td>\n",
       "      <td>1</td>\n",
       "      <td>5</td>\n",
       "      <td>5</td>\n",
       "      <td>0</td>\n",
       "      <td>0</td>\n",
       "      <td>1</td>\n",
       "    </tr>\n",
       "  </tbody>\n",
       "</table>\n",
       "<p>5 rows × 44 columns</p>\n",
       "</div>"
      ],
      "text/plain": [
       "       id      f_00      f_01      f_02      f_03      f_04      f_05  \\\n",
       "0  900000  0.442517  0.174380 -0.999816  0.762741  0.186778 -1.074775   \n",
       "1  900001 -0.605598 -0.305715  0.627667 -0.578898 -1.750931  1.355550   \n",
       "2  900002  0.303990  2.445110  0.246515  0.818248  0.359731 -1.331845   \n",
       "3  900003  0.154053  0.260126 -1.367092 -0.093175 -1.111034 -0.948481   \n",
       "4  900004 -1.651904 -0.424266 -0.667356 -0.322124 -0.089462  0.181705   \n",
       "\n",
       "       f_06  f_07  f_08  ...  pos4  pos5  pos6  pos7  pos8  pos9  \\\n",
       "0  0.501888     6     6  ...     1     0     3    11     0     2   \n",
       "1 -0.190911     1     3  ...     1     0     4     6     2     1   \n",
       "2  1.358622     3     3  ...     0     1     1    10     4     4   \n",
       "3  1.119220     0     0  ...     0     0     2    16     2     2   \n",
       "4  1.784983     2     2  ...     1     1     3     0     1     5   \n",
       "\n",
       "   unique_characters  f_29_1  f_30_1  f_30_2  \n",
       "0                  5       0       0       0  \n",
       "1                  6       1       0       0  \n",
       "2                  5       0       1       0  \n",
       "3                  5       0       0       0  \n",
       "4                  5       0       0       1  \n",
       "\n",
       "[5 rows x 44 columns]"
      ]
     },
     "execution_count": 97,
     "metadata": {},
     "output_type": "execute_result"
    }
   ],
   "source": [
    "data_mod_test.head()"
   ]
  },
  {
   "cell_type": "code",
   "execution_count": 98,
   "metadata": {
    "scrolled": true
   },
   "outputs": [
    {
     "data": {
      "text/plain": [
       "(700000, 42)"
      ]
     },
     "execution_count": 98,
     "metadata": {},
     "output_type": "execute_result"
    }
   ],
   "source": [
    "x_test = data_mod_test.copy()\n",
    "x_test.drop(columns = ['id', 'target'], inplace = True)\n",
    "x_test.shape"
   ]
  },
  {
   "cell_type": "code",
   "execution_count": null,
   "metadata": {},
   "outputs": [],
   "source": [
    "classifier_LGBM.fit(x,y)\n",
    "y_prob = classifier_LGBM.predict_proba(x_test)[:, 1]\n",
    "y_prob = pd.DataFrame(y_prob, columns = ['target'])"
   ]
  },
  {
   "cell_type": "code",
   "execution_count": null,
   "metadata": {},
   "outputs": [],
   "source": [
    "y_prob.shape"
   ]
  },
  {
   "cell_type": "code",
   "execution_count": null,
   "metadata": {},
   "outputs": [],
   "source": [
    "ID = data_mod_test.loc[:,['id']]\n",
    "ID['id'] = ID['id'].astype('object')\n",
    "\n",
    "ID.shape"
   ]
  },
  {
   "cell_type": "code",
   "execution_count": null,
   "metadata": {},
   "outputs": [],
   "source": [
    "df = pd.concat([ID, y_prob], axis = 1)\n",
    "df = df[['id','target']]\n",
    "df.head(20)"
   ]
  },
  {
   "cell_type": "code",
   "execution_count": null,
   "metadata": {},
   "outputs": [],
   "source": [
    "df.to_csv(\"Result_LGBMClassifier.csv\", index = False)"
   ]
  },
  {
   "cell_type": "code",
   "execution_count": null,
   "metadata": {},
   "outputs": [],
   "source": []
  }
 ],
 "metadata": {
  "kernelspec": {
   "display_name": "Python 3",
   "language": "python",
   "name": "python3"
  },
  "language_info": {
   "codemirror_mode": {
    "name": "ipython",
    "version": 3
   },
   "file_extension": ".py",
   "mimetype": "text/x-python",
   "name": "python",
   "nbconvert_exporter": "python",
   "pygments_lexer": "ipython3",
   "version": "3.8.3"
  },
  "papermill": {
   "default_parameters": {},
   "duration": 81.873963,
   "end_time": "2022-05-01T03:53:54.281937",
   "environment_variables": {},
   "exception": null,
   "input_path": "__notebook__.ipynb",
   "output_path": "__notebook__.ipynb",
   "parameters": {},
   "start_time": "2022-05-01T03:52:32.407974",
   "version": "2.3.4"
  }
 },
 "nbformat": 4,
 "nbformat_minor": 5
}
